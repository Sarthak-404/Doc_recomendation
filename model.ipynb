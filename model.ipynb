{
 "cells": [
  {
   "cell_type": "code",
   "execution_count": 1,
   "metadata": {},
   "outputs": [
    {
     "data": {
      "text/html": [
       "<div>\n",
       "<style scoped>\n",
       "    .dataframe tbody tr th:only-of-type {\n",
       "        vertical-align: middle;\n",
       "    }\n",
       "\n",
       "    .dataframe tbody tr th {\n",
       "        vertical-align: top;\n",
       "    }\n",
       "\n",
       "    .dataframe thead th {\n",
       "        text-align: right;\n",
       "    }\n",
       "</style>\n",
       "<table border=\"1\" class=\"dataframe\">\n",
       "  <thead>\n",
       "    <tr style=\"text-align: right;\">\n",
       "      <th></th>\n",
       "      <th>name</th>\n",
       "      <th>disease</th>\n",
       "      <th>rate</th>\n",
       "      <th>review</th>\n",
       "    </tr>\n",
       "  </thead>\n",
       "  <tbody>\n",
       "    <tr>\n",
       "      <th>0</th>\n",
       "      <td>Dr. Alok Gupta</td>\n",
       "      <td>Cancer</td>\n",
       "      <td>4.1</td>\n",
       "      <td>Worst hospital, no hygiene, worst staff, docto...</td>\n",
       "    </tr>\n",
       "    <tr>\n",
       "      <th>1</th>\n",
       "      <td>Dr. Amit Agarwal</td>\n",
       "      <td>Cancer</td>\n",
       "      <td>4.7</td>\n",
       "      <td>Here you will get very good facilities. Also t...</td>\n",
       "    </tr>\n",
       "    <tr>\n",
       "      <th>2</th>\n",
       "      <td>Dr. Anshul Gupta</td>\n",
       "      <td>Cancer</td>\n",
       "      <td>4.3</td>\n",
       "      <td>Good doctor and all staff is like family membe...</td>\n",
       "    </tr>\n",
       "    <tr>\n",
       "      <th>3</th>\n",
       "      <td>Dr. Harshvardhan Atreya</td>\n",
       "      <td>Cancer</td>\n",
       "      <td>4.2</td>\n",
       "      <td>It is not a doctor for paying one star...peopl...</td>\n",
       "    </tr>\n",
       "    <tr>\n",
       "      <th>4</th>\n",
       "      <td>Dr. Vivekanand Singh</td>\n",
       "      <td>Cancer</td>\n",
       "      <td>4.5</td>\n",
       "      <td>Good doctor and all staff is like family membe...</td>\n",
       "    </tr>\n",
       "  </tbody>\n",
       "</table>\n",
       "</div>"
      ],
      "text/plain": [
       "                      name disease  rate  \\\n",
       "0           Dr. Alok Gupta  Cancer   4.1   \n",
       "1         Dr. Amit Agarwal  Cancer   4.7   \n",
       "2         Dr. Anshul Gupta  Cancer   4.3   \n",
       "3  Dr. Harshvardhan Atreya  Cancer   4.2   \n",
       "4     Dr. Vivekanand Singh  Cancer   4.5   \n",
       "\n",
       "                                              review  \n",
       "0  Worst hospital, no hygiene, worst staff, docto...  \n",
       "1  Here you will get very good facilities. Also t...  \n",
       "2  Good doctor and all staff is like family membe...  \n",
       "3  It is not a doctor for paying one star...peopl...  \n",
       "4  Good doctor and all staff is like family membe...  "
      ]
     },
     "execution_count": 1,
     "metadata": {},
     "output_type": "execute_result"
    }
   ],
   "source": [
    "import pandas as pd \n",
    "df = pd.read_excel(\"Medanta.xlsx\")\n",
    "df.head(5)"
   ]
  },
  {
   "cell_type": "code",
   "execution_count": 2,
   "metadata": {},
   "outputs": [
    {
     "data": {
      "text/html": [
       "<div>\n",
       "<style scoped>\n",
       "    .dataframe tbody tr th:only-of-type {\n",
       "        vertical-align: middle;\n",
       "    }\n",
       "\n",
       "    .dataframe tbody tr th {\n",
       "        vertical-align: top;\n",
       "    }\n",
       "\n",
       "    .dataframe thead th {\n",
       "        text-align: right;\n",
       "    }\n",
       "</style>\n",
       "<table border=\"1\" class=\"dataframe\">\n",
       "  <thead>\n",
       "    <tr style=\"text-align: right;\">\n",
       "      <th></th>\n",
       "      <th>name</th>\n",
       "      <th>rate</th>\n",
       "    </tr>\n",
       "  </thead>\n",
       "  <tbody>\n",
       "    <tr>\n",
       "      <th>1</th>\n",
       "      <td>Dr. Amit Agarwal</td>\n",
       "      <td>4.7</td>\n",
       "    </tr>\n",
       "    <tr>\n",
       "      <th>4</th>\n",
       "      <td>Dr. Vivekanand Singh</td>\n",
       "      <td>4.5</td>\n",
       "    </tr>\n",
       "    <tr>\n",
       "      <th>2</th>\n",
       "      <td>Dr. Anshul Gupta</td>\n",
       "      <td>4.3</td>\n",
       "    </tr>\n",
       "    <tr>\n",
       "      <th>3</th>\n",
       "      <td>Dr. Harshvardhan Atreya</td>\n",
       "      <td>4.2</td>\n",
       "    </tr>\n",
       "    <tr>\n",
       "      <th>0</th>\n",
       "      <td>Dr. Alok Gupta</td>\n",
       "      <td>4.1</td>\n",
       "    </tr>\n",
       "  </tbody>\n",
       "</table>\n",
       "</div>"
      ],
      "text/plain": [
       "                      name  rate\n",
       "1         Dr. Amit Agarwal   4.7\n",
       "4     Dr. Vivekanand Singh   4.5\n",
       "2         Dr. Anshul Gupta   4.3\n",
       "3  Dr. Harshvardhan Atreya   4.2\n",
       "0           Dr. Alok Gupta   4.1"
      ]
     },
     "execution_count": 2,
     "metadata": {},
     "output_type": "execute_result"
    }
   ],
   "source": [
    "find = 'Cancer'\n",
    "fil = df[(df['disease'] == find)]\n",
    "hospital = fil[['name', 'rate']]  # Selecting both name and rate columns\n",
    "hospital_sorted = hospital.sort_values(by='rate', ascending=False)\n",
    "hospital_sorted"
   ]
  }
 ],
 "metadata": {
  "kernelspec": {
   "display_name": "Python 3",
   "language": "python",
   "name": "python3"
  },
  "language_info": {
   "codemirror_mode": {
    "name": "ipython",
    "version": 3
   },
   "file_extension": ".py",
   "mimetype": "text/x-python",
   "name": "python",
   "nbconvert_exporter": "python",
   "pygments_lexer": "ipython3",
   "version": "3.11.9"
  }
 },
 "nbformat": 4,
 "nbformat_minor": 2
}
